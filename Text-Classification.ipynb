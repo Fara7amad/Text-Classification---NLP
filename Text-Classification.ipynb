{
 "cells": [
  {
   "cell_type": "markdown",
   "metadata": {},
   "source": [
    "This notebook aims is to build a Naïve Bayes classification model that is able to predict the class (category) of an unseen document correctly out of 91 classes."
   ]
  },
  {
   "cell_type": "markdown",
   "metadata": {},
   "source": [
    "Importing Libraries"
   ]
  },
  {
   "cell_type": "code",
   "execution_count": 1,
   "metadata": {},
   "outputs": [],
   "source": [
    "import os\n",
    "import re\n",
    "import numpy as np\n",
    "import nltk\n",
    "from nltk.stem import PorterStemmer\n",
    "from nltk.corpus import stopwords\n",
    "from sklearn.metrics import f1_score\n",
    "from collections import defaultdict"
   ]
  },
  {
   "cell_type": "markdown",
   "metadata": {},
   "source": [
    "Loading data"
   ]
  },
  {
   "cell_type": "code",
   "execution_count": 2,
   "metadata": {},
   "outputs": [],
   "source": [
    "data_path = \"D:/4th year 2nd semester/NLP/Assignment-1 Text Classification/training\"\n",
    "\n",
    "# Function to load data from folders\n",
    "def load_data(data_path):\n",
    "    documents = []\n",
    "    classes = []\n",
    "    \n",
    "    for label in os.listdir(data_path):\n",
    "        label_path = os.path.join(data_path, label)\n",
    "        if os.path.isdir(label_path):\n",
    "            for file_name in os.listdir(label_path):\n",
    "                file_path = os.path.join(label_path, file_name)\n",
    "                with open(file_path, 'r', encoding='utf-8') as file:\n",
    "                    content = file.read()\n",
    "                    documents.append(content)\n",
    "                    classes.append(label) \n",
    "    \n",
    "    return documents, classes"
   ]
  },
  {
   "cell_type": "markdown",
   "metadata": {},
   "source": [
    "Spliitting Data"
   ]
  },
  {
   "cell_type": "code",
   "execution_count": 7,
   "metadata": {},
   "outputs": [],
   "source": [
    "from sklearn.model_selection import train_test_split\n",
    "\n",
    "# Load data\n",
    "documents, classes = load_data(data_path)\n",
    "\n",
    "# Identify classes with only one file\n",
    "unique_classes = set(classes)\n",
    "classes_with_one_file = [label for label in unique_classes if classes.count(label) == 1]\n",
    "\n",
    "# Split data into training and testing sets excluding classes with one file\n",
    "remaining_documents, remaining_classes = zip(*[\n",
    "    (doc, cls) for doc, cls in zip(documents, classes) if cls not in classes_with_one_file\n",
    "])\n",
    "\n",
    "# Split remaining data into training and testing sets\n",
    "train_documents, test_documents, train_classes, test_classes = train_test_split(\n",
    "    remaining_documents, remaining_classes, test_size=0.2, stratify=remaining_classes\n",
    ")\n",
    "\n",
    "# Include all instances of classes with one file in the training set\n",
    "for label in classes_with_one_file:\n",
    "    index = [i for i, cls in enumerate(classes) if cls == label][0]\n",
    "    train_documents.append(documents[index])\n",
    "    train_classes.append(label)\n",
    "    test_documents = [doc for doc, cls in zip(test_documents, test_classes) if cls != label]\n",
    "    test_classes = [cls for cls in test_classes if cls != label]\n"
   ]
  },
  {
   "cell_type": "code",
   "execution_count": 8,
   "metadata": {},
   "outputs": [
    {
     "name": "stdout",
     "output_type": "stream",
     "text": [
      "11413 91\n"
     ]
    }
   ],
   "source": [
    "print(len(documents),len(set(classes)))\n"
   ]
  },
  {
   "cell_type": "markdown",
   "metadata": {},
   "source": [
    "Text preprocessing"
   ]
  },
  {
   "cell_type": "code",
   "execution_count": 9,
   "metadata": {},
   "outputs": [],
   "source": [
    "def preprocess_and_extract_vocabulary_ngrams(docs, stop_words=None, stemmer=None, ngram=1):\n",
    "    if stop_words is None:\n",
    "        stop_words = set(stopwords.words('english'))\n",
    "    \n",
    "    preprocessed_documents = []\n",
    "    vocabulary = set()\n",
    "\n",
    "    if stemmer is None:\n",
    "        stemmer = PorterStemmer()\n",
    "\n",
    "    for doc in docs:\n",
    "        # Remove non-alphanumeric characters\n",
    "        text = re.sub(r'\\W', ' ', doc)\n",
    "        # Tokenization with n-grams\n",
    "        tokens = nltk.word_tokenize(text)\n",
    "\n",
    "        if ngram > 1:\n",
    "            tokens = list(nltk.ngrams(tokens, ngram))\n",
    "        \n",
    "        # Remove non-alphabetic tokens, remove stop words, and apply stemming\n",
    "        tokens = [stemmer.stem(word.lower()) if isinstance(word, str) else ' '.join(map(stemmer.stem, word)) for word in tokens if (isinstance(word, str) and word.isalpha()) or ngram > 1 and all(w.isalpha() for w in word) and ' '.join(word).lower() not in stop_words]\n",
    "        preprocessed_documents.append(tokens)\n",
    "        vocabulary.update(tokens)\n",
    "   \n",
    "    return preprocessed_documents, vocabulary\n",
    "train_preprocessed_documents, train_vocabulary = preprocess_and_extract_vocabulary_ngrams(train_documents)\n",
    "test_preprocessed_documents, test_vocabulary = preprocess_and_extract_vocabulary_ngrams(test_documents)"
   ]
  },
  {
   "cell_type": "code",
   "execution_count": 10,
   "metadata": {},
   "outputs": [
    {
     "name": "stdout",
     "output_type": "stream",
     "text": [
      "9131 18875\n",
      "2282 10324\n"
     ]
    }
   ],
   "source": [
    "print(len(train_preprocessed_documents), len(train_vocabulary))\n",
    "print(len(test_preprocessed_documents), len(test_vocabulary))\n"
   ]
  },
  {
   "cell_type": "markdown",
   "metadata": {},
   "source": [
    "Estimate model parameters:"
   ]
  },
  {
   "cell_type": "code",
   "execution_count": 11,
   "metadata": {},
   "outputs": [],
   "source": [
    "def estimate_probabilities(preprocessed_documents, classes, vocabulary, alpha=1, ngrams=1):\n",
    "    prior_probs = {}\n",
    "    total_documents = len(classes)\n",
    "    \n",
    "    for label in set(classes):\n",
    "        prior_probs[label] = classes.count(label) / total_documents\n",
    "\n",
    "    likelihood_probs = {}\n",
    "\n",
    "    for label in set(classes):\n",
    "        class_docs = [preprocessed_documents[i] for i in range(total_documents) if classes[i] == label]\n",
    "        word_count = sum(len(doc) for doc in class_docs)\n",
    "        \n",
    "        word_probs = {}\n",
    "        if ngrams == 1:\n",
    "            for word in vocabulary:\n",
    "                # Numerator\n",
    "                word_freq = sum(doc.count(word) for doc in class_docs)\n",
    "                # Prob (w | c):\n",
    "                word_probs[word] = (word_freq + alpha) / (word_count + alpha * len(vocabulary))\n",
    "        else:\n",
    "            # For n-grams\n",
    "            ngram_counts = defaultdict(int)\n",
    "            for doc in class_docs:\n",
    "                for ngram in doc:\n",
    "                    ngram_counts[ngram] += 1\n",
    "\n",
    "            for ngram in vocabulary:\n",
    "                # Numerator\n",
    "                ngram_freq = ngram_counts[ngram]\n",
    "                # Prob (w | c):\n",
    "                word_probs[ngram] = (ngram_freq + alpha) / (word_count + alpha * len(vocabulary))\n",
    "\n",
    "        likelihood_probs[label] = word_probs\n",
    "\n",
    "    return prior_probs, likelihood_probs\n"
   ]
  },
  {
   "cell_type": "code",
   "execution_count": 12,
   "metadata": {},
   "outputs": [],
   "source": [
    "\n",
    "train_prior_probs, train_likelihood_probs = estimate_probabilities(train_preprocessed_documents, train_classes, train_vocabulary)"
   ]
  },
  {
   "cell_type": "markdown",
   "metadata": {},
   "source": [
    "Document Classification"
   ]
  },
  {
   "cell_type": "code",
   "execution_count": 13,
   "metadata": {},
   "outputs": [],
   "source": [
    "#Function to classify a document using Naïve Bayes\n",
    "def classify_document(document):\n",
    "    class_scores = {}\n",
    "    \n",
    "    for label in set(classes):\n",
    "        prior_prob = np.log(train_prior_probs[label])\n",
    "        likelihood_prob = sum(np.log(train_likelihood_probs[label].get(word, 1)) for word in document)\n",
    "        class_scores[label] = prior_prob + likelihood_prob\n",
    "    return max(class_scores, key=class_scores.get)"
   ]
  },
  {
   "cell_type": "markdown",
   "metadata": {},
   "source": [
    "Model evaluation:"
   ]
  },
  {
   "cell_type": "markdown",
   "metadata": {},
   "source": [
    "unigram"
   ]
  },
  {
   "cell_type": "code",
   "execution_count": 14,
   "metadata": {},
   "outputs": [
    {
     "name": "stdout",
     "output_type": "stream",
     "text": [
      "Macro-averaged F1-score: 0.16504060408199062\n"
     ]
    }
   ],
   "source": [
    "# Predict labels for test set\n",
    "predicted_labels = [classify_document(doc) for doc in test_preprocessed_documents]\n",
    "\n",
    "# Calculate F1-score\n",
    "macro_f1 = f1_score(test_classes, predicted_labels, average='macro')\n",
    "\n",
    "# Print the Macro-averaged F1-score\n",
    "print(\"Macro-averaged F1-score:\", macro_f1)\n"
   ]
  },
  {
   "cell_type": "markdown",
   "metadata": {},
   "source": [
    "ngrams (bi + tri)"
   ]
  },
  {
   "cell_type": "code",
   "execution_count": 15,
   "metadata": {},
   "outputs": [],
   "source": [
    "train_preprocessed_documents_tri, train_vocabulary_tri = preprocess_and_extract_vocabulary_ngrams(train_documents, ngram=3)\n",
    "test_preprocessed_documents_tri, test_vocabulary_tri = preprocess_and_extract_vocabulary_ngrams(test_documents, ngram=3)\n",
    "\n",
    "train_preprocessed_documents_bi, train_vocabulary_bi = preprocess_and_extract_vocabulary_ngrams(train_documents, ngram=2)\n",
    "test_preprocessed_documents_bi, test_vocabulary_bi = preprocess_and_extract_vocabulary_ngrams(test_documents, ngram=2)"
   ]
  },
  {
   "cell_type": "code",
   "execution_count": 17,
   "metadata": {},
   "outputs": [],
   "source": [
    "train_prior_probs_trigrams, train_likelihood_probs_trigrams = estimate_probabilities(train_preprocessed_documents_tri, train_classes, train_vocabulary_tri, ngrams=3)\n",
    "train_prior_probs_bigrams, train_likelihood_probs_bigrams = estimate_probabilities(train_preprocessed_documents_bi, train_classes, train_vocabulary_bi, ngrams=2)\n"
   ]
  },
  {
   "cell_type": "code",
   "execution_count": 18,
   "metadata": {},
   "outputs": [
    {
     "name": "stdout",
     "output_type": "stream",
     "text": [
      "Macro-averaged F1-score using bigrams: 0.17587406643090847\n",
      "Macro-averaged F1-score using trigrams: 0.19623392513154234\n"
     ]
    }
   ],
   "source": [
    "# Function to classify a document using Naïve Bayes\n",
    "def classify_document_ngrams(document, ngram):\n",
    "    class_scores = {}\n",
    "    \n",
    "    if ngram ==2:\n",
    "        for label in set(classes):\n",
    "            prior_prob = np.log(train_prior_probs_bigrams[label])\n",
    "            train_likelihood_probs_bi = sum(np.log(train_likelihood_probs_bigrams[label].get(word, 1)) for word in document)\n",
    "            class_scores[label] = prior_prob + train_likelihood_probs_bi\n",
    "        return max(class_scores, key=class_scores.get)\n",
    "    else:\n",
    "        for label in set(classes):\n",
    "            prior_prob = np.log(train_prior_probs_trigrams[label])\n",
    "            train_likelihood_probs_tri = sum(np.log(train_likelihood_probs_trigrams[label].get(word, 1)) for word in document)\n",
    "            class_scores[label] = prior_prob + train_likelihood_probs_tri\n",
    "        return max(class_scores, key=class_scores.get)\n",
    "\n",
    "# Predict labels for the test set\n",
    "predicted_labels_bi = [classify_document_ngrams(doc, 2) for doc in test_preprocessed_documents_bi]\n",
    "\n",
    "# Calculate F1-score\n",
    "macro_f1_bi = f1_score(test_classes, predicted_labels_bi, average='macro')\n",
    "\n",
    "# Print the Macro-averaged F1-score\n",
    "print(\"Macro-averaged F1-score using bigrams:\", macro_f1_bi)\n",
    "\n",
    "\n",
    "# Predict labels for the test set\n",
    "predicted_labels_tri = [classify_document_ngrams(doc, 3) for doc in test_preprocessed_documents_tri]\n",
    "\n",
    "# Calculate F1-score\n",
    "macro_f1_tri = f1_score(test_classes, predicted_labels_tri, average='macro')\n",
    "\n",
    "# Print the Macro-averaged F1-score\n",
    "print(\"Macro-averaged F1-score using trigrams:\", macro_f1_tri)\n",
    "\n"
   ]
  }
 ],
 "metadata": {
  "kernelspec": {
   "display_name": "Python 3",
   "language": "python",
   "name": "python3"
  },
  "language_info": {
   "codemirror_mode": {
    "name": "ipython",
    "version": 3
   },
   "file_extension": ".py",
   "mimetype": "text/x-python",
   "name": "python",
   "nbconvert_exporter": "python",
   "pygments_lexer": "ipython3",
   "version": "3.10.11"
  }
 },
 "nbformat": 4,
 "nbformat_minor": 2
}
